{
 "cells": [
  {
   "cell_type": "code",
   "execution_count": 4,
   "metadata": {},
   "outputs": [
    {
     "name": "stderr",
     "output_type": "stream",
     "text": [
      "/home/z/miniconda3/envs/mmxai/lib/python3.12/site-packages/huggingface_hub/file_download.py:1132: FutureWarning: `resume_download` is deprecated and will be removed in version 1.0.0. Downloads always resume when possible. If you want to force a new download, use `force_download=True`.\n",
      "  warnings.warn(\n",
      "Could not find image processor class in the image processor config or the model config. Loading based on pattern matching with the model's feature extractor configuration. Please open a PR/issue to update `preprocessor_config.json` to use `image_processor_type` instead of `feature_extractor_type`. This warning will be removed in v4.40.\n"
     ]
    },
    {
     "data": {
      "application/vnd.jupyter.widget-view+json": {
       "model_id": "1c619eb3f84c47e69859df4d6f3dfdd1",
       "version_major": 2,
       "version_minor": 0
      },
      "text/plain": [
       "Processing videos:   0%|          | 0/40 [00:00<?, ?video/s]"
      ]
     },
     "metadata": {},
     "output_type": "display_data"
    },
    {
     "name": "stdout",
     "output_type": "stream",
     "text": [
      "Precision: 0.3333333333333333\n",
      "Recall: 0.19166666666666668\n",
      "F1 Score: 0.23367743367743368\n"
     ]
    },
    {
     "name": "stderr",
     "output_type": "stream",
     "text": [
      "/home/z/miniconda3/envs/mmxai/lib/python3.12/site-packages/sklearn/metrics/_classification.py:1509: UndefinedMetricWarning: Recall is ill-defined and being set to 0.0 in labels with no true samples. Use `zero_division` parameter to control this behavior.\n",
      "  _warn_prf(average, modifier, f\"{metric.capitalize()} is\", len(result))\n"
     ]
    }
   ],
   "source": [
    "import os\n",
    "import av\n",
    "import torch\n",
    "import numpy as np\n",
    "from transformers import AutoImageProcessor, TimesformerForVideoClassification\n",
    "from sklearn.metrics import precision_score, recall_score, f1_score\n",
    "from collections import defaultdict\n",
    "import random\n",
    "from tqdm.notebook import tqdm  # 导入 tqdm 的 notebook 版本\n",
    "\n",
    "# 加载模型和图像处理器\n",
    "model = TimesformerForVideoClassification.from_pretrained(\"facebook/timesformer-base-finetuned-k400\")\n",
    "image_processor = AutoImageProcessor.from_pretrained(\"MCG-NJU/videomae-base-finetuned-kinetics\")\n",
    "\n",
    "# 读取视频列表和标签，并按类别组织\n",
    "video_labels = defaultdict(list)\n",
    "with open(\"archive/kinetics400_val_list_videos.txt\", \"r\") as f:\n",
    "    for line in f:\n",
    "        name, label = line.strip().split()\n",
    "        video_labels[int(label)].append(name)\n",
    "\n",
    "def sample_frame_indices(clip_len, frame_sample_rate, seg_len):\n",
    "    converted_len = int(clip_len * frame_sample_rate)\n",
    "    end_idx = np.random.randint(converted_len, seg_len)\n",
    "    start_idx = end_idx - converted_len\n",
    "    indices = np.linspace(start_idx, end_idx, num=clip_len)\n",
    "    return np.clip(indices, start_idx, end_idx - 1).astype(np.int64)\n",
    "\n",
    "def read_video_pyav(container, indices):\n",
    "    frames = []\n",
    "    container.seek(0)\n",
    "    start_index = indices[0]\n",
    "    end_index = indices[-1]\n",
    "    for i, frame in enumerate(container.decode(video=0)):\n",
    "        if i > end_index:\n",
    "            break\n",
    "        if i >= start_index and i in indices:\n",
    "            frames.append(frame.to_ndarray(format=\"rgb24\"))\n",
    "    return np.stack(frames)\n",
    "\n",
    "def balanced_sample_videos(num_samples_per_class, num_classes=None):\n",
    "    sampled_files = []\n",
    "    labels = []\n",
    "\n",
    "    # 随机选择指定数量的类别\n",
    "    available_classes = list(video_labels.keys())\n",
    "    if num_classes is not None and num_classes < len(available_classes):\n",
    "        chosen_classes = random.sample(available_classes, num_classes)\n",
    "    else:\n",
    "        chosen_classes = available_classes\n",
    "\n",
    "    for label in chosen_classes:\n",
    "        files = video_labels[label]\n",
    "        if len(files) >= num_samples_per_class:\n",
    "            sampled = random.sample(files, num_samples_per_class)\n",
    "        else:\n",
    "            sampled = files\n",
    "        sampled_files.extend(sampled)\n",
    "        labels.extend([label] * len(sampled))\n",
    "    \n",
    "    return sampled_files, labels\n",
    "\n",
    "def predict_labels(sampled_files, true_labels):\n",
    "    predicted_labels = []\n",
    "    model.to('cuda')  # 确保模型在 GPU 上\n",
    "    for video_file in tqdm(sampled_files, desc=\"Processing videos\", unit=\"video\"):\n",
    "        file_path = os.path.join(\"archive/videos_val\", video_file)\n",
    "        container = av.open(file_path)\n",
    "        indices = sample_frame_indices(clip_len=16, frame_sample_rate=1, seg_len=container.streams.video[0].frames)\n",
    "        video = read_video_pyav(container, indices)\n",
    "        inputs = image_processor(list(video), return_tensors=\"pt\")\n",
    "        inputs = {k: v.to('cuda') for k, v in inputs.items()}  # 移动输入数据到 GPU\n",
    "\n",
    "        with torch.no_grad():\n",
    "            outputs = model(**inputs)\n",
    "            predicted_label = outputs.logits.argmax(-1).item()\n",
    "            predicted_labels.append(predicted_label)\n",
    "\n",
    "    return predicted_labels, true_labels\n",
    "\n",
    "# 指定每类样本数量和随机选择的类别数量\n",
    "num_samples_per_class = 8  # 每类样本数\n",
    "num_classes = 5  # 随机选择的类别数\n",
    "sampled_files, true_labels = balanced_sample_videos(num_samples_per_class, num_classes)\n",
    "\n",
    "# 使用采样结果进行预测\n",
    "predicted_labels_index, true_labels_index = predict_labels(sampled_files, true_labels)\n",
    "\n",
    "# 计算 precision, recall, 和 F1 分数\n",
    "precision = precision_score(true_labels_index, predicted_labels_index, average='macro')\n",
    "recall = recall_score(true_labels_index, predicted_labels_index, average='macro')\n",
    "f1 = f1_score(true_labels_index, predicted_labels_index, average='macro')\n",
    "\n",
    "print(\"Precision:\", precision)\n",
    "print(\"Recall:\", recall)\n",
    "print(\"F1 Score:\", f1)\n"
   ]
  }
 ],
 "metadata": {
  "kernelspec": {
   "display_name": "mmxai",
   "language": "python",
   "name": "python3"
  },
  "language_info": {
   "codemirror_mode": {
    "name": "ipython",
    "version": 3
   },
   "file_extension": ".py",
   "mimetype": "text/x-python",
   "name": "python",
   "nbconvert_exporter": "python",
   "pygments_lexer": "ipython3",
   "version": "3.12.1"
  }
 },
 "nbformat": 4,
 "nbformat_minor": 2
}
